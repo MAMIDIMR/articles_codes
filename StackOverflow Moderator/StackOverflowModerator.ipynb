{
 "cells": [
  {
   "cell_type": "code",
   "execution_count": 17,
   "metadata": {},
   "outputs": [
    {
     "name": "stderr",
     "output_type": "stream",
     "text": [
      "[nltk_data] Downloading package stopwords to\n",
      "[nltk_data]     /home/pushkarasharma/nltk_data...\n",
      "[nltk_data]   Unzipping corpora/stopwords.zip.\n"
     ]
    },
    {
     "data": {
      "text/plain": [
       "True"
      ]
     },
     "execution_count": 17,
     "metadata": {},
     "output_type": "execute_result"
    }
   ],
   "source": [
    "import numpy as np\n",
    "import pandas as pd\n",
    "import matplotlib.pyplot as plt\n",
    "import seaborn as sns\n",
    "import re\n",
    "import nltk\n",
    "nltk.download('stopwords')"
   ]
  },
  {
   "cell_type": "code",
   "execution_count": 3,
   "metadata": {},
   "outputs": [
    {
     "data": {
      "text/plain": [
       "(60000, 7)"
      ]
     },
     "execution_count": 3,
     "metadata": {},
     "output_type": "execute_result"
    }
   ],
   "source": [
    "df = pd.read_csv(\"data.csv\")\n",
    "df.shape"
   ]
  },
  {
   "cell_type": "code",
   "execution_count": 4,
   "metadata": {},
   "outputs": [
    {
     "data": {
      "text/html": [
       "<div>\n",
       "<style scoped>\n",
       "    .dataframe tbody tr th:only-of-type {\n",
       "        vertical-align: middle;\n",
       "    }\n",
       "\n",
       "    .dataframe tbody tr th {\n",
       "        vertical-align: top;\n",
       "    }\n",
       "\n",
       "    .dataframe thead th {\n",
       "        text-align: right;\n",
       "    }\n",
       "</style>\n",
       "<table border=\"1\" class=\"dataframe\">\n",
       "  <thead>\n",
       "    <tr style=\"text-align: right;\">\n",
       "      <th></th>\n",
       "      <th>Unnamed: 0</th>\n",
       "      <th>Id</th>\n",
       "      <th>Title</th>\n",
       "      <th>Body</th>\n",
       "      <th>Tags</th>\n",
       "      <th>CreationDate</th>\n",
       "      <th>Y</th>\n",
       "    </tr>\n",
       "  </thead>\n",
       "  <tbody>\n",
       "    <tr>\n",
       "      <th>0</th>\n",
       "      <td>0</td>\n",
       "      <td>34552656</td>\n",
       "      <td>Java: Repeat Task Every Random Seconds</td>\n",
       "      <td>&lt;p&gt;I'm already familiar with repeating tasks e...</td>\n",
       "      <td>&lt;java&gt;&lt;repeat&gt;</td>\n",
       "      <td>2016-01-01 00:21:59</td>\n",
       "      <td>LQ_CLOSE</td>\n",
       "    </tr>\n",
       "    <tr>\n",
       "      <th>1</th>\n",
       "      <td>1</td>\n",
       "      <td>34553034</td>\n",
       "      <td>Why are Java Optionals immutable?</td>\n",
       "      <td>&lt;p&gt;I'd like to understand why Java 8 Optionals...</td>\n",
       "      <td>&lt;java&gt;&lt;optional&gt;</td>\n",
       "      <td>2016-01-01 02:03:20</td>\n",
       "      <td>HQ</td>\n",
       "    </tr>\n",
       "    <tr>\n",
       "      <th>2</th>\n",
       "      <td>2</td>\n",
       "      <td>34553174</td>\n",
       "      <td>Text Overlay Image with Darkened Opacity React...</td>\n",
       "      <td>&lt;p&gt;I am attempting to overlay a title over an ...</td>\n",
       "      <td>&lt;javascript&gt;&lt;image&gt;&lt;overlay&gt;&lt;react-native&gt;&lt;opa...</td>\n",
       "      <td>2016-01-01 02:48:24</td>\n",
       "      <td>HQ</td>\n",
       "    </tr>\n",
       "    <tr>\n",
       "      <th>3</th>\n",
       "      <td>3</td>\n",
       "      <td>34553318</td>\n",
       "      <td>Why ternary operator in swift is so picky?</td>\n",
       "      <td>&lt;p&gt;The question is very simple, but I just cou...</td>\n",
       "      <td>&lt;swift&gt;&lt;operators&gt;&lt;whitespace&gt;&lt;ternary-operato...</td>\n",
       "      <td>2016-01-01 03:30:17</td>\n",
       "      <td>HQ</td>\n",
       "    </tr>\n",
       "    <tr>\n",
       "      <th>4</th>\n",
       "      <td>4</td>\n",
       "      <td>34553755</td>\n",
       "      <td>hide/show fab with scale animation</td>\n",
       "      <td>&lt;p&gt;I'm using custom floatingactionmenu. I need...</td>\n",
       "      <td>&lt;android&gt;&lt;material-design&gt;&lt;floating-action-but...</td>\n",
       "      <td>2016-01-01 05:21:48</td>\n",
       "      <td>HQ</td>\n",
       "    </tr>\n",
       "  </tbody>\n",
       "</table>\n",
       "</div>"
      ],
      "text/plain": [
       "   Unnamed: 0        Id                                              Title  \\\n",
       "0           0  34552656             Java: Repeat Task Every Random Seconds   \n",
       "1           1  34553034                  Why are Java Optionals immutable?   \n",
       "2           2  34553174  Text Overlay Image with Darkened Opacity React...   \n",
       "3           3  34553318         Why ternary operator in swift is so picky?   \n",
       "4           4  34553755                 hide/show fab with scale animation   \n",
       "\n",
       "                                                Body  \\\n",
       "0  <p>I'm already familiar with repeating tasks e...   \n",
       "1  <p>I'd like to understand why Java 8 Optionals...   \n",
       "2  <p>I am attempting to overlay a title over an ...   \n",
       "3  <p>The question is very simple, but I just cou...   \n",
       "4  <p>I'm using custom floatingactionmenu. I need...   \n",
       "\n",
       "                                                Tags         CreationDate  \\\n",
       "0                                     <java><repeat>  2016-01-01 00:21:59   \n",
       "1                                   <java><optional>  2016-01-01 02:03:20   \n",
       "2  <javascript><image><overlay><react-native><opa...  2016-01-01 02:48:24   \n",
       "3  <swift><operators><whitespace><ternary-operato...  2016-01-01 03:30:17   \n",
       "4  <android><material-design><floating-action-but...  2016-01-01 05:21:48   \n",
       "\n",
       "          Y  \n",
       "0  LQ_CLOSE  \n",
       "1        HQ  \n",
       "2        HQ  \n",
       "3        HQ  \n",
       "4        HQ  "
      ]
     },
     "execution_count": 4,
     "metadata": {},
     "output_type": "execute_result"
    }
   ],
   "source": [
    "df.head()"
   ]
  },
  {
   "cell_type": "code",
   "execution_count": 5,
   "metadata": {},
   "outputs": [
    {
     "data": {
      "text/html": [
       "<div>\n",
       "<style scoped>\n",
       "    .dataframe tbody tr th:only-of-type {\n",
       "        vertical-align: middle;\n",
       "    }\n",
       "\n",
       "    .dataframe tbody tr th {\n",
       "        vertical-align: top;\n",
       "    }\n",
       "\n",
       "    .dataframe thead th {\n",
       "        text-align: right;\n",
       "    }\n",
       "</style>\n",
       "<table border=\"1\" class=\"dataframe\">\n",
       "  <thead>\n",
       "    <tr style=\"text-align: right;\">\n",
       "      <th></th>\n",
       "      <th>Title</th>\n",
       "      <th>Body</th>\n",
       "      <th>Y</th>\n",
       "    </tr>\n",
       "  </thead>\n",
       "  <tbody>\n",
       "    <tr>\n",
       "      <th>0</th>\n",
       "      <td>Java: Repeat Task Every Random Seconds</td>\n",
       "      <td>&lt;p&gt;I'm already familiar with repeating tasks e...</td>\n",
       "      <td>LQ_CLOSE</td>\n",
       "    </tr>\n",
       "    <tr>\n",
       "      <th>1</th>\n",
       "      <td>Why are Java Optionals immutable?</td>\n",
       "      <td>&lt;p&gt;I'd like to understand why Java 8 Optionals...</td>\n",
       "      <td>HQ</td>\n",
       "    </tr>\n",
       "    <tr>\n",
       "      <th>2</th>\n",
       "      <td>Text Overlay Image with Darkened Opacity React...</td>\n",
       "      <td>&lt;p&gt;I am attempting to overlay a title over an ...</td>\n",
       "      <td>HQ</td>\n",
       "    </tr>\n",
       "    <tr>\n",
       "      <th>3</th>\n",
       "      <td>Why ternary operator in swift is so picky?</td>\n",
       "      <td>&lt;p&gt;The question is very simple, but I just cou...</td>\n",
       "      <td>HQ</td>\n",
       "    </tr>\n",
       "    <tr>\n",
       "      <th>4</th>\n",
       "      <td>hide/show fab with scale animation</td>\n",
       "      <td>&lt;p&gt;I'm using custom floatingactionmenu. I need...</td>\n",
       "      <td>HQ</td>\n",
       "    </tr>\n",
       "  </tbody>\n",
       "</table>\n",
       "</div>"
      ],
      "text/plain": [
       "                                               Title  \\\n",
       "0             Java: Repeat Task Every Random Seconds   \n",
       "1                  Why are Java Optionals immutable?   \n",
       "2  Text Overlay Image with Darkened Opacity React...   \n",
       "3         Why ternary operator in swift is so picky?   \n",
       "4                 hide/show fab with scale animation   \n",
       "\n",
       "                                                Body         Y  \n",
       "0  <p>I'm already familiar with repeating tasks e...  LQ_CLOSE  \n",
       "1  <p>I'd like to understand why Java 8 Optionals...        HQ  \n",
       "2  <p>I am attempting to overlay a title over an ...        HQ  \n",
       "3  <p>The question is very simple, but I just cou...        HQ  \n",
       "4  <p>I'm using custom floatingactionmenu. I need...        HQ  "
      ]
     },
     "execution_count": 5,
     "metadata": {},
     "output_type": "execute_result"
    }
   ],
   "source": [
    "df = df.drop(['Id','Tags','CreationDate','Unnamed: 0'],axis=1)\n",
    "df.head()"
   ]
  },
  {
   "cell_type": "code",
   "execution_count": 7,
   "metadata": {},
   "outputs": [
    {
     "data": {
      "text/html": [
       "<div>\n",
       "<style scoped>\n",
       "    .dataframe tbody tr th:only-of-type {\n",
       "        vertical-align: middle;\n",
       "    }\n",
       "\n",
       "    .dataframe tbody tr th {\n",
       "        vertical-align: top;\n",
       "    }\n",
       "\n",
       "    .dataframe thead th {\n",
       "        text-align: right;\n",
       "    }\n",
       "</style>\n",
       "<table border=\"1\" class=\"dataframe\">\n",
       "  <thead>\n",
       "    <tr style=\"text-align: right;\">\n",
       "      <th></th>\n",
       "      <th>Title</th>\n",
       "      <th>Body</th>\n",
       "      <th>Y</th>\n",
       "      <th>Num_words_body</th>\n",
       "      <th>Num_words_title</th>\n",
       "      <th>Total_words</th>\n",
       "    </tr>\n",
       "  </thead>\n",
       "  <tbody>\n",
       "    <tr>\n",
       "      <th>0</th>\n",
       "      <td>Java: Repeat Task Every Random Seconds</td>\n",
       "      <td>&lt;p&gt;I'm already familiar with repeating tasks e...</td>\n",
       "      <td>LQ_CLOSE</td>\n",
       "      <td>54</td>\n",
       "      <td>6</td>\n",
       "      <td>60</td>\n",
       "    </tr>\n",
       "    <tr>\n",
       "      <th>1</th>\n",
       "      <td>Why are Java Optionals immutable?</td>\n",
       "      <td>&lt;p&gt;I'd like to understand why Java 8 Optionals...</td>\n",
       "      <td>HQ</td>\n",
       "      <td>18</td>\n",
       "      <td>5</td>\n",
       "      <td>23</td>\n",
       "    </tr>\n",
       "    <tr>\n",
       "      <th>2</th>\n",
       "      <td>Text Overlay Image with Darkened Opacity React...</td>\n",
       "      <td>&lt;p&gt;I am attempting to overlay a title over an ...</td>\n",
       "      <td>HQ</td>\n",
       "      <td>400</td>\n",
       "      <td>8</td>\n",
       "      <td>408</td>\n",
       "    </tr>\n",
       "    <tr>\n",
       "      <th>3</th>\n",
       "      <td>Why ternary operator in swift is so picky?</td>\n",
       "      <td>&lt;p&gt;The question is very simple, but I just cou...</td>\n",
       "      <td>HQ</td>\n",
       "      <td>108</td>\n",
       "      <td>8</td>\n",
       "      <td>116</td>\n",
       "    </tr>\n",
       "    <tr>\n",
       "      <th>4</th>\n",
       "      <td>hide/show fab with scale animation</td>\n",
       "      <td>&lt;p&gt;I'm using custom floatingactionmenu. I need...</td>\n",
       "      <td>HQ</td>\n",
       "      <td>30</td>\n",
       "      <td>5</td>\n",
       "      <td>35</td>\n",
       "    </tr>\n",
       "  </tbody>\n",
       "</table>\n",
       "</div>"
      ],
      "text/plain": [
       "                                               Title  \\\n",
       "0             Java: Repeat Task Every Random Seconds   \n",
       "1                  Why are Java Optionals immutable?   \n",
       "2  Text Overlay Image with Darkened Opacity React...   \n",
       "3         Why ternary operator in swift is so picky?   \n",
       "4                 hide/show fab with scale animation   \n",
       "\n",
       "                                                Body         Y  \\\n",
       "0  <p>I'm already familiar with repeating tasks e...  LQ_CLOSE   \n",
       "1  <p>I'd like to understand why Java 8 Optionals...        HQ   \n",
       "2  <p>I am attempting to overlay a title over an ...        HQ   \n",
       "3  <p>The question is very simple, but I just cou...        HQ   \n",
       "4  <p>I'm using custom floatingactionmenu. I need...        HQ   \n",
       "\n",
       "   Num_words_body  Num_words_title  Total_words  \n",
       "0              54                6           60  \n",
       "1              18                5           23  \n",
       "2             400                8          408  \n",
       "3             108                8          116  \n",
       "4              30                5           35  "
      ]
     },
     "execution_count": 7,
     "metadata": {},
     "output_type": "execute_result"
    }
   ],
   "source": [
    "#Number Of words in Selected Text\n",
    "df['Num_words_body'] = df['Body'].apply(lambda x:len(str(x).split()))\n",
    "#Number Of words in main text\n",
    "df['Num_words_title'] = df['Title'].apply(lambda x:len(str(x).split())) \n",
    "#Total  Number of words text and Selected Text\n",
    "df['Total_words'] = abs(df['Num_words_body'] + df['Num_words_title']) \n",
    "\n",
    "df.head()"
   ]
  },
  {
   "cell_type": "code",
   "execution_count": 8,
   "metadata": {},
   "outputs": [
    {
     "data": {
      "text/plain": [
       "(0.0, 300.0)"
      ]
     },
     "execution_count": 8,
     "metadata": {},
     "output_type": "execute_result"
    },
    {
     "data": {
      "image/png": "[encoded data removed]",
      "text/plain": [
       "<Figure size 864x432 with 1 Axes>"
      ]
     },
     "metadata": {
      "needs_background": "light"
     },
     "output_type": "display_data"
    }
   ],
   "source": [
    "plt.figure(figsize=(12,6))\n",
    "p = sns.kdeplot(df['Num_words_body'],shade=True).set_title('Distribution of Body text')\n",
    "p = sns.kdeplot(df['Num_words_title'],shade=True).set_title('Distribution of Body text')\n",
    "plt.xlim(0,300)\n"
   ]
  },
  {
   "cell_type": "code",
   "execution_count": 9,
   "metadata": {},
   "outputs": [
    {
     "data": {
      "text/plain": [
       "(-20.0, 500.0)"
      ]
     },
     "execution_count": 9,
     "metadata": {},
     "output_type": "execute_result"
    },
    {
     "data": {
      "image/png": "[encoded data removed]",
      "text/plain": [
       "<Figure size 864x432 with 1 Axes>"
      ]
     },
     "metadata": {
      "needs_background": "light"
     },
     "output_type": "display_data"
    }
   ],
   "source": [
    "plt.figure(figsize=(12,6))\n",
    "p1=sns.kdeplot(df[df['Y']=='HQ']['Total_words'], shade=True,).set_title('Distribution of Total No.Of words Per Category')\n",
    "p2=sns.kdeplot(df[df['Y']=='LQ_CLOSE']['Total_words'], shade=True)\n",
    "p2=sns.kdeplot(df[df['Y']=='LQ_EDIT']['Total_words'], shade=True)\n",
    "plt.legend(labels=['HQ','LQ_CLOSE','LQ_EDIT'])\n",
    "plt.xlim(-20,500)\n"
   ]
  },
  {
   "cell_type": "code",
   "execution_count": 10,
   "metadata": {},
   "outputs": [
    {
     "data": {
      "text/html": [
       "<div>\n",
       "<style scoped>\n",
       "    .dataframe tbody tr th:only-of-type {\n",
       "        vertical-align: middle;\n",
       "    }\n",
       "\n",
       "    .dataframe tbody tr th {\n",
       "        vertical-align: top;\n",
       "    }\n",
       "\n",
       "    .dataframe thead th {\n",
       "        text-align: right;\n",
       "    }\n",
       "</style>\n",
       "<table border=\"1\" class=\"dataframe\">\n",
       "  <thead>\n",
       "    <tr style=\"text-align: right;\">\n",
       "      <th></th>\n",
       "      <th>Title</th>\n",
       "      <th>Body</th>\n",
       "      <th>Y</th>\n",
       "      <th>Num_words_body</th>\n",
       "      <th>Num_words_title</th>\n",
       "      <th>Total_words</th>\n",
       "    </tr>\n",
       "  </thead>\n",
       "  <tbody>\n",
       "    <tr>\n",
       "      <th>0</th>\n",
       "      <td>Java: Repeat Task Every Random Seconds</td>\n",
       "      <td>&lt;p&gt;I'm already familiar with repeating tasks e...</td>\n",
       "      <td>0</td>\n",
       "      <td>54</td>\n",
       "      <td>6</td>\n",
       "      <td>60</td>\n",
       "    </tr>\n",
       "    <tr>\n",
       "      <th>1</th>\n",
       "      <td>Why are Java Optionals immutable?</td>\n",
       "      <td>&lt;p&gt;I'd like to understand why Java 8 Optionals...</td>\n",
       "      <td>2</td>\n",
       "      <td>18</td>\n",
       "      <td>5</td>\n",
       "      <td>23</td>\n",
       "    </tr>\n",
       "    <tr>\n",
       "      <th>2</th>\n",
       "      <td>Text Overlay Image with Darkened Opacity React...</td>\n",
       "      <td>&lt;p&gt;I am attempting to overlay a title over an ...</td>\n",
       "      <td>2</td>\n",
       "      <td>400</td>\n",
       "      <td>8</td>\n",
       "      <td>408</td>\n",
       "    </tr>\n",
       "    <tr>\n",
       "      <th>3</th>\n",
       "      <td>Why ternary operator in swift is so picky?</td>\n",
       "      <td>&lt;p&gt;The question is very simple, but I just cou...</td>\n",
       "      <td>2</td>\n",
       "      <td>108</td>\n",
       "      <td>8</td>\n",
       "      <td>116</td>\n",
       "    </tr>\n",
       "    <tr>\n",
       "      <th>4</th>\n",
       "      <td>hide/show fab with scale animation</td>\n",
       "      <td>&lt;p&gt;I'm using custom floatingactionmenu. I need...</td>\n",
       "      <td>2</td>\n",
       "      <td>30</td>\n",
       "      <td>5</td>\n",
       "      <td>35</td>\n",
       "    </tr>\n",
       "  </tbody>\n",
       "</table>\n",
       "</div>"
      ],
      "text/plain": [
       "                                               Title  \\\n",
       "0             Java: Repeat Task Every Random Seconds   \n",
       "1                  Why are Java Optionals immutable?   \n",
       "2  Text Overlay Image with Darkened Opacity React...   \n",
       "3         Why ternary operator in swift is so picky?   \n",
       "4                 hide/show fab with scale animation   \n",
       "\n",
       "                                                Body  Y  Num_words_body  \\\n",
       "0  <p>I'm already familiar with repeating tasks e...  0              54   \n",
       "1  <p>I'd like to understand why Java 8 Optionals...  2              18   \n",
       "2  <p>I am attempting to overlay a title over an ...  2             400   \n",
       "3  <p>The question is very simple, but I just cou...  2             108   \n",
       "4  <p>I'm using custom floatingactionmenu. I need...  2              30   \n",
       "\n",
       "   Num_words_title  Total_words  \n",
       "0                6           60  \n",
       "1                5           23  \n",
       "2                8          408  \n",
       "3                8          116  \n",
       "4                5           35  "
      ]
     },
     "execution_count": 10,
     "metadata": {},
     "output_type": "execute_result"
    }
   ],
   "source": [
    "df['Y'] = df['Y'].map({'LQ_CLOSE':0,'LQ_EDIT':1,'HQ':2})\n",
    "df.head()"
   ]
  },
  {
   "cell_type": "code",
   "execution_count": 11,
   "metadata": {},
   "outputs": [
    {
     "data": {
      "text/plain": [
       "Title              0\n",
       "Body               0\n",
       "Y                  0\n",
       "Num_words_body     0\n",
       "Num_words_title    0\n",
       "Total_words        0\n",
       "dtype: int64"
      ]
     },
     "execution_count": 11,
     "metadata": {},
     "output_type": "execute_result"
    }
   ],
   "source": [
    "df.isnull().sum()"
   ]
  },
  {
   "cell_type": "code",
   "execution_count": 12,
   "metadata": {},
   "outputs": [
    {
     "data": {
      "image/png": "[encoded data removed]",
      "text/plain": [
       "<Figure size 432x288 with 1 Axes>"
      ]
     },
     "metadata": {
      "needs_background": "light"
     },
     "output_type": "display_data"
    }
   ],
   "source": [
    "values = [len(df[df['Y']==0]),len(df[df['Y']==1]),len(df[df['Y']==2])]\n",
    "plt.bar(['LQ_CLOSE','LQ_EDIT','HQ'],values)\n",
    "plt.show()"
   ]
  },
  {
   "cell_type": "code",
   "execution_count": 13,
   "metadata": {},
   "outputs": [
    {
     "data": {
      "text/html": [
       "<div>\n",
       "<style scoped>\n",
       "    .dataframe tbody tr th:only-of-type {\n",
       "        vertical-align: middle;\n",
       "    }\n",
       "\n",
       "    .dataframe tbody tr th {\n",
       "        vertical-align: top;\n",
       "    }\n",
       "\n",
       "    .dataframe thead th {\n",
       "        text-align: right;\n",
       "    }\n",
       "</style>\n",
       "<table border=\"1\" class=\"dataframe\">\n",
       "  <thead>\n",
       "    <tr style=\"text-align: right;\">\n",
       "      <th></th>\n",
       "      <th>Y</th>\n",
       "      <th>Num_words_body</th>\n",
       "      <th>Num_words_title</th>\n",
       "      <th>Total_words</th>\n",
       "      <th>All_text</th>\n",
       "    </tr>\n",
       "  </thead>\n",
       "  <tbody>\n",
       "    <tr>\n",
       "      <th>0</th>\n",
       "      <td>0</td>\n",
       "      <td>54</td>\n",
       "      <td>6</td>\n",
       "      <td>60</td>\n",
       "      <td>Java: Repeat Task Every Random Seconds &lt;p&gt;I'm ...</td>\n",
       "    </tr>\n",
       "    <tr>\n",
       "      <th>1</th>\n",
       "      <td>2</td>\n",
       "      <td>18</td>\n",
       "      <td>5</td>\n",
       "      <td>23</td>\n",
       "      <td>Why are Java Optionals immutable? &lt;p&gt;I'd like ...</td>\n",
       "    </tr>\n",
       "    <tr>\n",
       "      <th>2</th>\n",
       "      <td>2</td>\n",
       "      <td>400</td>\n",
       "      <td>8</td>\n",
       "      <td>408</td>\n",
       "      <td>Text Overlay Image with Darkened Opacity React...</td>\n",
       "    </tr>\n",
       "    <tr>\n",
       "      <th>3</th>\n",
       "      <td>2</td>\n",
       "      <td>108</td>\n",
       "      <td>8</td>\n",
       "      <td>116</td>\n",
       "      <td>Why ternary operator in swift is so picky? &lt;p&gt;...</td>\n",
       "    </tr>\n",
       "    <tr>\n",
       "      <th>4</th>\n",
       "      <td>2</td>\n",
       "      <td>30</td>\n",
       "      <td>5</td>\n",
       "      <td>35</td>\n",
       "      <td>hide/show fab with scale animation &lt;p&gt;I'm usin...</td>\n",
       "    </tr>\n",
       "  </tbody>\n",
       "</table>\n",
       "</div>"
      ],
      "text/plain": [
       "   Y  Num_words_body  Num_words_title  Total_words  \\\n",
       "0  0              54                6           60   \n",
       "1  2              18                5           23   \n",
       "2  2             400                8          408   \n",
       "3  2             108                8          116   \n",
       "4  2              30                5           35   \n",
       "\n",
       "                                            All_text  \n",
       "0  Java: Repeat Task Every Random Seconds <p>I'm ...  \n",
       "1  Why are Java Optionals immutable? <p>I'd like ...  \n",
       "2  Text Overlay Image with Darkened Opacity React...  \n",
       "3  Why ternary operator in swift is so picky? <p>...  \n",
       "4  hide/show fab with scale animation <p>I'm usin...  "
      ]
     },
     "execution_count": 13,
     "metadata": {},
     "output_type": "execute_result"
    }
   ],
   "source": [
    "df['All_text'] = df['Title']+' '+df['Body']\n",
    "new_df = df.copy()\n",
    "new_df = new_df.drop(['Title','Body'],axis=1)\n",
    "new_df.head()"
   ]
  },
  {
   "cell_type": "code",
   "execution_count": 14,
   "metadata": {},
   "outputs": [],
   "source": [
    "#Cleaning the data"
   ]
  },
  {
   "cell_type": "code",
   "execution_count": 18,
   "metadata": {},
   "outputs": [],
   "source": [
    "stop_words = stopwords.words('english')\n",
    "\n",
    "def data_cleaning(data):\n",
    "    data = data.lower()\n",
    "    data = re.sub(r'[^(a-zA-Z)\\s]','',data)\n",
    "    data = data.split()\n",
    "    temp = []\n",
    "    for i in data:\n",
    "        if i not in stop_words:\n",
    "            temp.append(i)\n",
    "    data = ' '.join(temp)\n",
    "    return data"
   ]
  },
  {
   "cell_type": "code",
   "execution_count": 19,
   "metadata": {},
   "outputs": [
    {
     "data": {
      "text/plain": [
       "0        java repeat task every random seconds pim alre...\n",
       "1        java optionals immutable pid like understand j...\n",
       "2        text overlay image darkened opacity react nati...\n",
       "3        ternary operator swift picky pthe question sim...\n",
       "4        hideshow fab scale animation pim using custom ...\n",
       "                               ...                        \n",
       "59995    align two flex boxes follow pi menu id like di...\n",
       "59996    c correct way multiply integer double pi try m...\n",
       "59997    django showing error try open new page hyperli...\n",
       "59998    php getting content php page pi controller ins...\n",
       "59999    cant overloaded functions vary return type pso...\n",
       "Name: All_text, Length: 60000, dtype: object"
      ]
     },
     "execution_count": 19,
     "metadata": {},
     "output_type": "execute_result"
    }
   ],
   "source": [
    "new_df['All_text'] = new_df['All_text'].apply(data_cleaning)\n",
    "new_df['All_text']"
   ]
  },
  {
   "cell_type": "code",
   "execution_count": 24,
   "metadata": {},
   "outputs": [],
   "source": [
    "from sklearn.model_selection import train_test_split\n",
    "\n",
    "x_train,x_test,y_train,y_test = train_test_split(new_df['All_text'],new_df['Y'],test_size=0.20)"
   ]
  },
  {
   "cell_type": "code",
   "execution_count": 25,
   "metadata": {},
   "outputs": [
    {
     "name": "stdout",
     "output_type": "stream",
     "text": [
      "X_train Size :  48000  Y_train Size :  48000\n",
      "X_test Size :  12000  Y_test Size :  12000\n"
     ]
    }
   ],
   "source": [
    "print(\"X_train Size : \",x_train.size,\" Y_train Size : \",y_train.size)\n",
    "print(\"X_test Size : \",x_test.size,\" Y_test Size : \",y_test.size) "
   ]
  },
  {
   "cell_type": "code",
   "execution_count": 26,
   "metadata": {},
   "outputs": [],
   "source": [
    "from sklearn.feature_extraction.text import TfidfVectorizer\n",
    "vec = TfidfVectorizer()\n",
    "x_train = vec.fit_transform(x_train)\n",
    "x_test = vec.transform(x_test)"
   ]
  },
  {
   "cell_type": "code",
   "execution_count": 29,
   "metadata": {},
   "outputs": [
    {
     "name": "stdout",
     "output_type": "stream",
     "text": [
      "  (0, 276991)\t0.23851225803210904\n",
      "  (0, 124982)\t0.1214183332624102\n",
      "  (0, 318892)\t0.08146397476588714\n",
      "  (0, 72447)\t0.08980562405982534\n",
      "  (0, 77678)\t0.06619035856912098\n",
      "  (0, 293038)\t0.11263272544775571\n",
      "  (0, 342077)\t0.17360100293727035\n",
      "  (0, 68502)\t0.09962829594887757\n",
      "  (0, 72369)\t0.07239654497751886\n",
      "  (0, 342123)\t0.10416865410361463\n",
      "  (0, 39048)\t0.3368845982475189\n",
      "  (0, 1185)\t0.12833401167651498\n",
      "  (0, 113007)\t0.09742752580666972\n",
      "  (0, 334048)\t0.08723345247390528\n",
      "  (0, 235605)\t0.0696966385490706\n",
      "  (0, 127288)\t0.06124546035267657\n",
      "  (0, 338894)\t0.09894229157888365\n",
      "  (0, 346420)\t0.15297939821898\n",
      "  (0, 107660)\t0.32597420573463437\n",
      "  (0, 73751)\t0.252044528589448\n",
      "  (0, 255709)\t0.2086860564680863\n",
      "  (0, 102957)\t0.12032873048729217\n",
      "  (0, 108450)\t0.17737731352169872\n",
      "  (0, 254778)\t0.5850608494737309\n",
      "  (0, 117308)\t0.22362543157356546\n",
      "  :\t:\n",
      "  (47999, 170734)\t0.10396292068381055\n",
      "  (47999, 219539)\t0.10769965364986998\n",
      "  (47999, 110142)\t0.07442808604559818\n",
      "  (47999, 22830)\t0.21509015511172383\n",
      "  (47999, 189472)\t0.43870526696205614\n",
      "  (47999, 121028)\t0.0960507126529619\n",
      "  (47999, 121032)\t0.09632146942587884\n",
      "  (47999, 269756)\t0.08115469946091741\n",
      "  (47999, 191251)\t0.10471340368982286\n",
      "  (47999, 109607)\t0.1238208406251322\n",
      "  (47999, 172691)\t0.10803847572414725\n",
      "  (47999, 14141)\t0.09825355275733792\n",
      "  (47999, 329863)\t0.15414350491153242\n",
      "  (47999, 292354)\t0.09131397250119636\n",
      "  (47999, 26766)\t0.2045500680164278\n",
      "  (47999, 302623)\t0.08828684776486091\n",
      "  (47999, 303858)\t0.2456343086994072\n",
      "  (47999, 117829)\t0.10816762406710613\n",
      "  (47999, 329543)\t0.06843152121250512\n",
      "  (47999, 36449)\t0.08766333526000401\n",
      "  (47999, 330019)\t0.06181365507369729\n",
      "  (47999, 102658)\t0.1246654863090168\n",
      "  (47999, 102728)\t0.07222281387892006\n",
      "  (47999, 318892)\t0.08047596948156369\n",
      "  (47999, 338894)\t0.04887115354008289\n"
     ]
    }
   ],
   "source": [
    "print(x_train)"
   ]
  },
  {
   "cell_type": "code",
   "execution_count": 31,
   "metadata": {},
   "outputs": [
    {
     "name": "stdout",
     "output_type": "stream",
     "text": [
      "Collecting xgboost\n",
      "  Downloading xgboost-1.3.3-py3-none-manylinux2010_x86_64.whl (157.5 MB)\n",
      "\u001b[K     |████████████████████████████████| 157.5 MB 76 kB/s  eta 0:00:01    |████▍                           | 21.6 MB 3.1 MB/s eta 0:00:45     |████████████▊                   | 62.5 MB 3.9 MB/s eta 0:00:25     |█████████████████▊              | 87.5 MB 3.9 MB/s eta 0:00:18     |██████████████████▏             | 89.3 MB 3.9 MB/s eta 0:00:18     |██████████████████████████▎     | 129.3 MB 2.5 MB/s eta 0:00:12     |███████████████████████████▎    | 134.2 MB 4.3 MB/s eta 0:00:06\n",
      "\u001b[?25hRequirement already satisfied: scipy in /home/pushkarasharma/anaconda3/lib/python3.8/site-packages (from xgboost) (1.5.2)\n",
      "Requirement already satisfied: numpy in /home/pushkarasharma/anaconda3/lib/python3.8/site-packages (from xgboost) (1.19.2)\n",
      "Installing collected packages: xgboost\n",
      "Successfully installed xgboost-1.3.3\n"
     ]
    }
   ],
   "source": [
    "!pip install xgboost"
   ]
  },
  {
   "cell_type": "code",
   "execution_count": 32,
   "metadata": {},
   "outputs": [
    {
     "name": "stderr",
     "output_type": "stream",
     "text": [
      "/home/pushkarasharma/anaconda3/lib/python3.8/site-packages/xgboost/sklearn.py:888: UserWarning: The use of label encoder in XGBClassifier is deprecated and will be removed in a future release. To remove this warning, do the following: 1) Pass option use_label_encoder=False when constructing XGBClassifier object; and 2) Encode your labels (y) as integers starting with 0, i.e. 0, 1, 2, ..., [num_class - 1].\n",
      "  warnings.warn(label_encoder_deprecation_msg, UserWarning)\n"
     ]
    },
    {
     "name": "stdout",
     "output_type": "stream",
     "text": [
      "[22:36:56] WARNING: ../src/learner.cc:1061: Starting in XGBoost 1.3.0, the default evaluation metric used with the objective 'multi:softprob' was changed from 'merror' to 'mlogloss'. Explicitly set eval_metric if you'd like to restore the old behavior.\n"
     ]
    },
    {
     "data": {
      "text/plain": [
       "XGBClassifier(base_score=0.5, booster='gbtree', colsample_bylevel=1,\n",
       "              colsample_bynode=1, colsample_bytree=1, gamma=0, gpu_id=-1,\n",
       "              importance_type='gain', interaction_constraints='',\n",
       "              learning_rate=0.300000012, max_delta_step=0, max_depth=6,\n",
       "              min_child_weight=1, missing=nan, monotone_constraints='()',\n",
       "              n_estimators=100, n_jobs=4, num_parallel_tree=1,\n",
       "              objective='multi:softprob', random_state=0, reg_alpha=0,\n",
       "              reg_lambda=1, scale_pos_weight=None, subsample=1,\n",
       "              tree_method='exact', validate_parameters=1, verbosity=None)"
      ]
     },
     "execution_count": 32,
     "metadata": {},
     "output_type": "execute_result"
    }
   ],
   "source": [
    "from xgboost import XGBClassifier\n",
    "xgb = XGBClassifier()\n",
    "xgb.fit(x_train,y_train)"
   ]
  },
  {
   "cell_type": "code",
   "execution_count": 34,
   "metadata": {},
   "outputs": [
    {
     "data": {
      "text/plain": [
       "0.8785"
      ]
     },
     "execution_count": 34,
     "metadata": {},
     "output_type": "execute_result"
    }
   ],
   "source": [
    "from sklearn.metrics import accuracy_score,plot_confusion_matrix\n",
    "predictions = xgb.predict(x_test)\n",
    "acc = accuracy_score(predictions,y_test)\n",
    "acc"
   ]
  },
  {
   "cell_type": "code",
   "execution_count": 35,
   "metadata": {},
   "outputs": [
    {
     "data": {
      "text/plain": [
       "<sklearn.metrics._plot.confusion_matrix.ConfusionMatrixDisplay at 0x7f59399b06d0>"
      ]
     },
     "execution_count": 35,
     "metadata": {},
     "output_type": "execute_result"
    },
    {
     "data": {
      "image/png": "[encoded data removed]",
      "text/plain": [
       "<Figure size 432x288 with 2 Axes>"
      ]
     },
     "metadata": {
      "needs_background": "light"
     },
     "output_type": "display_data"
    }
   ],
   "source": [
    "plot_confusion_matrix(xgb,x_test,y_test)"
   ]
  },
  {
   "cell_type": "code",
   "execution_count": null,
   "metadata": {},
   "outputs": [],
   "source": []
  }
 ],
 "metadata": {
  "kernelspec": {
   "display_name": "Python 3",
   "language": "python",
   "name": "python3"
  },
  "language_info": {
   "codemirror_mode": {
    "name": "ipython",
    "version": 3
   },
   "file_extension": ".py",
   "mimetype": "text/x-python",
   "name": "python",
   "nbconvert_exporter": "python",
   "pygments_lexer": "ipython3",
   "version": "3.8.5"
  }
 },
 "nbformat": 4,
 "nbformat_minor": 4
}
